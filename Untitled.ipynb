{
 "cells": [
  {
   "cell_type": "code",
   "execution_count": 13,
   "metadata": {},
   "outputs": [],
   "source": [
    "import pandas as pd\n",
    "import numpy as np\n",
    "import yaml \n",
    "import csv\n",
    "import sklearn\n",
    "from sklearn.preprocessing import LabelEncoder\n",
    "import os\n",
    "from datetime import datetime\n",
    "from sklearn.impute import SimpleImputer\n",
    "from collections import defaultdict\n",
    "from sklearn.model_selection import train_test_split\n"
   ]
  },
  {
   "cell_type": "code",
   "execution_count": 2,
   "metadata": {},
   "outputs": [],
   "source": [
    "file = open('./datasets/PKvsIND_ODI/_14.yml')"
   ]
  },
  {
   "cell_type": "code",
   "execution_count": 3,
   "metadata": {},
   "outputs": [],
   "source": [
    "b = yaml.safe_load(file)"
   ]
  },
  {
   "cell_type": "code",
   "execution_count": 4,
   "metadata": {},
   "outputs": [
    {
     "data": {
      "text/plain": [
       "True"
      ]
     },
     "execution_count": 4,
     "metadata": {},
     "output_type": "execute_result"
    }
   ],
   "source": [
    "type ('2010-01-10')==str"
   ]
  },
  {
   "cell_type": "code",
   "execution_count": 5,
   "metadata": {
    "scrolled": false
   },
   "outputs": [
    {
     "name": "stdout",
     "output_type": "stream",
     "text": [
      "{'city': 'Kanpur', 'dates': [datetime.date(2007, 11, 11)], 'match_type': 'ODI', 'gender': 'male', 'venue': 'Green Park', 'teams': ['India', 'Pakistan'], 'umpires': ['IJ Gould', 'AM Saheba'], 'toss': {'decision': 'field', 'winner': 'Pakistan'}, 'player_of_match': ['Yuvraj Singh'], 'outcome': {'winner': 'India', 'by': {'runs': 46}}, 'overs': 50}\n"
     ]
    }
   ],
   "source": [
    "print b['info']"
   ]
  },
  {
   "cell_type": "code",
   "execution_count": 6,
   "metadata": {},
   "outputs": [],
   "source": [
    "directory = './datasets/PKvsIND_ODI/'\n",
    "outcome_of_matches = []\n",
    "\n",
    "for i,f in enumerate(os.listdir(directory)):\n",
    "    data = yaml.safe_load(open(directory+f))['info']\n",
    "    outcome_of_matches.append({\n",
    "        'id': i+1,\n",
    "        'city': data.get('city'),\n",
    "        'month': ( datetime.strptime(data.get('dates')[0], \"%Y-%m-%d\") if type(data.get('dates')[0]) == str else data.get('dates')[0]).strftime(\"%B\"),\n",
    "        'match_type': data['match_type'],\n",
    "        'team_a': data['teams'][0],\n",
    "        'team_b': data['teams'][1],\n",
    "        'toss_won': data['toss']['winner'],\n",
    "        'toss_decision': data['toss']['decision'],\n",
    "        'venue': data['venue'],\n",
    "        'winner': data['outcome']['winner']\n",
    "    })"
   ]
  },
  {
   "cell_type": "code",
   "execution_count": 7,
   "metadata": {},
   "outputs": [],
   "source": [
    "f= open('./csv/PKvsIND_ODI.csv','w+')\n",
    "w = csv.DictWriter(f, ['id','city','month','match_type','team_a','team_b','toss_won','toss_decision','venue','winner'])\n",
    "w.writeheader()\n",
    "for obj in outcome_of_matches:\n",
    "    w.writerow(obj)\n",
    "f.close()"
   ]
  },
  {
   "cell_type": "code",
   "execution_count": 20,
   "metadata": {},
   "outputs": [
    {
     "data": {
      "text/html": [
       "<div>\n",
       "<style scoped>\n",
       "    .dataframe tbody tr th:only-of-type {\n",
       "        vertical-align: middle;\n",
       "    }\n",
       "\n",
       "    .dataframe tbody tr th {\n",
       "        vertical-align: top;\n",
       "    }\n",
       "\n",
       "    .dataframe thead th {\n",
       "        text-align: right;\n",
       "    }\n",
       "</style>\n",
       "<table border=\"1\" class=\"dataframe\">\n",
       "  <thead>\n",
       "    <tr style=\"text-align: right;\">\n",
       "      <th></th>\n",
       "      <th>city</th>\n",
       "      <th>month</th>\n",
       "      <th>match_type</th>\n",
       "      <th>team_a</th>\n",
       "      <th>team_b</th>\n",
       "      <th>toss_won</th>\n",
       "      <th>toss_decision</th>\n",
       "      <th>venue</th>\n",
       "      <th>winner</th>\n",
       "    </tr>\n",
       "  </thead>\n",
       "  <tbody>\n",
       "    <tr>\n",
       "      <th>0</th>\n",
       "      <td>NaN</td>\n",
       "      <td>February</td>\n",
       "      <td>ODI</td>\n",
       "      <td>Pakistan</td>\n",
       "      <td>India</td>\n",
       "      <td>Pakistan</td>\n",
       "      <td>bat</td>\n",
       "      <td>Rawalpindi Cricket Stadium</td>\n",
       "      <td>India</td>\n",
       "    </tr>\n",
       "    <tr>\n",
       "      <th>1</th>\n",
       "      <td>Colombo</td>\n",
       "      <td>February</td>\n",
       "      <td>ODI</td>\n",
       "      <td>India</td>\n",
       "      <td>Pakistan</td>\n",
       "      <td>India</td>\n",
       "      <td>field</td>\n",
       "      <td>P Sara Oval</td>\n",
       "      <td>India</td>\n",
       "    </tr>\n",
       "    <tr>\n",
       "      <th>2</th>\n",
       "      <td>Abu Dhabi</td>\n",
       "      <td>April</td>\n",
       "      <td>ODI</td>\n",
       "      <td>India</td>\n",
       "      <td>Pakistan</td>\n",
       "      <td>India</td>\n",
       "      <td>bat</td>\n",
       "      <td>Sheikh Zayed Stadium</td>\n",
       "      <td>India</td>\n",
       "    </tr>\n",
       "    <tr>\n",
       "      <th>3</th>\n",
       "      <td>Manchester</td>\n",
       "      <td>June</td>\n",
       "      <td>ODI</td>\n",
       "      <td>India</td>\n",
       "      <td>Pakistan</td>\n",
       "      <td>Pakistan</td>\n",
       "      <td>field</td>\n",
       "      <td>Old Trafford</td>\n",
       "      <td>India</td>\n",
       "    </tr>\n",
       "    <tr>\n",
       "      <th>4</th>\n",
       "      <td>Karachi</td>\n",
       "      <td>June</td>\n",
       "      <td>ODI</td>\n",
       "      <td>Pakistan</td>\n",
       "      <td>India</td>\n",
       "      <td>Pakistan</td>\n",
       "      <td>bat</td>\n",
       "      <td>National Stadium</td>\n",
       "      <td>India</td>\n",
       "    </tr>\n",
       "  </tbody>\n",
       "</table>\n",
       "</div>"
      ],
      "text/plain": [
       "         city     month match_type    team_a    team_b  toss_won  \\\n",
       "0         NaN  February        ODI  Pakistan     India  Pakistan   \n",
       "1     Colombo  February        ODI     India  Pakistan     India   \n",
       "2   Abu Dhabi     April        ODI     India  Pakistan     India   \n",
       "3  Manchester      June        ODI     India  Pakistan  Pakistan   \n",
       "4     Karachi      June        ODI  Pakistan     India  Pakistan   \n",
       "\n",
       "  toss_decision                       venue winner  \n",
       "0           bat  Rawalpindi Cricket Stadium  India  \n",
       "1         field                 P Sara Oval  India  \n",
       "2           bat        Sheikh Zayed Stadium  India  \n",
       "3         field                Old Trafford  India  \n",
       "4           bat            National Stadium  India  "
      ]
     },
     "execution_count": 20,
     "metadata": {},
     "output_type": "execute_result"
    }
   ],
   "source": [
    "data = pd.read_csv('./csv/PKvsIND_ODI.csv')\n",
    "del data['id']\n",
    "data.head()"
   ]
  },
  {
   "cell_type": "code",
   "execution_count": 32,
   "metadata": {},
   "outputs": [
    {
     "data": {
      "text/html": [
       "<div>\n",
       "<style scoped>\n",
       "    .dataframe tbody tr th:only-of-type {\n",
       "        vertical-align: middle;\n",
       "    }\n",
       "\n",
       "    .dataframe tbody tr th {\n",
       "        vertical-align: top;\n",
       "    }\n",
       "\n",
       "    .dataframe thead th {\n",
       "        text-align: right;\n",
       "    }\n",
       "</style>\n",
       "<table border=\"1\" class=\"dataframe\">\n",
       "  <thead>\n",
       "    <tr style=\"text-align: right;\">\n",
       "      <th></th>\n",
       "      <th>city</th>\n",
       "      <th>month</th>\n",
       "      <th>match_type</th>\n",
       "      <th>team_a</th>\n",
       "      <th>team_b</th>\n",
       "      <th>toss_won</th>\n",
       "      <th>toss_decision</th>\n",
       "      <th>venue</th>\n",
       "      <th>winner</th>\n",
       "    </tr>\n",
       "  </thead>\n",
       "  <tbody>\n",
       "    <tr>\n",
       "      <th>0</th>\n",
       "      <td>0</td>\n",
       "      <td>2</td>\n",
       "      <td>0</td>\n",
       "      <td>1</td>\n",
       "      <td>0</td>\n",
       "      <td>1</td>\n",
       "      <td>0</td>\n",
       "      <td>19</td>\n",
       "      <td>0</td>\n",
       "    </tr>\n",
       "    <tr>\n",
       "      <th>1</th>\n",
       "      <td>6</td>\n",
       "      <td>2</td>\n",
       "      <td>0</td>\n",
       "      <td>0</td>\n",
       "      <td>1</td>\n",
       "      <td>0</td>\n",
       "      <td>1</td>\n",
       "      <td>16</td>\n",
       "      <td>0</td>\n",
       "    </tr>\n",
       "    <tr>\n",
       "      <th>2</th>\n",
       "      <td>1</td>\n",
       "      <td>0</td>\n",
       "      <td>0</td>\n",
       "      <td>0</td>\n",
       "      <td>1</td>\n",
       "      <td>0</td>\n",
       "      <td>0</td>\n",
       "      <td>21</td>\n",
       "      <td>0</td>\n",
       "    </tr>\n",
       "    <tr>\n",
       "      <th>3</th>\n",
       "      <td>17</td>\n",
       "      <td>5</td>\n",
       "      <td>0</td>\n",
       "      <td>0</td>\n",
       "      <td>1</td>\n",
       "      <td>1</td>\n",
       "      <td>1</td>\n",
       "      <td>15</td>\n",
       "      <td>0</td>\n",
       "    </tr>\n",
       "    <tr>\n",
       "      <th>4</th>\n",
       "      <td>13</td>\n",
       "      <td>5</td>\n",
       "      <td>0</td>\n",
       "      <td>1</td>\n",
       "      <td>0</td>\n",
       "      <td>1</td>\n",
       "      <td>0</td>\n",
       "      <td>13</td>\n",
       "      <td>0</td>\n",
       "    </tr>\n",
       "  </tbody>\n",
       "</table>\n",
       "</div>"
      ],
      "text/plain": [
       "   city  month  match_type  team_a  team_b  toss_won  toss_decision  venue  \\\n",
       "0     0      2           0       1       0         1              0     19   \n",
       "1     6      2           0       0       1         0              1     16   \n",
       "2     1      0           0       0       1         0              0     21   \n",
       "3    17      5           0       0       1         1              1     15   \n",
       "4    13      5           0       1       0         1              0     13   \n",
       "\n",
       "   winner  \n",
       "0       0  \n",
       "1       0  \n",
       "2       0  \n",
       "3       0  \n",
       "4       0  "
      ]
     },
     "execution_count": 32,
     "metadata": {},
     "output_type": "execute_result"
    }
   ],
   "source": [
    "encoder_dict = defaultdict(LabelEncoder)\n",
    "label_data = data.apply(lambda x: encoder_dict[x.name].fit_transform(x))\n",
    "label_data.head()"
   ]
  },
  {
   "cell_type": "code",
   "execution_count": 33,
   "metadata": {
    "scrolled": true
   },
   "outputs": [
    {
     "data": {
      "text/plain": [
       "defaultdict(sklearn.preprocessing.label.LabelEncoder,\n",
       "            {'city': LabelEncoder(),\n",
       "             'match_type': LabelEncoder(),\n",
       "             'month': LabelEncoder(),\n",
       "             'team_a': LabelEncoder(),\n",
       "             'team_b': LabelEncoder(),\n",
       "             'toss_decision': LabelEncoder(),\n",
       "             'toss_won': LabelEncoder(),\n",
       "             'venue': LabelEncoder(),\n",
       "             'winner': LabelEncoder()})"
      ]
     },
     "execution_count": 33,
     "metadata": {},
     "output_type": "execute_result"
    }
   ],
   "source": [
    "encoder_dict"
   ]
  },
  {
   "cell_type": "code",
   "execution_count": 34,
   "metadata": {},
   "outputs": [
    {
     "data": {
      "text/html": [
       "<div>\n",
       "<style scoped>\n",
       "    .dataframe tbody tr th:only-of-type {\n",
       "        vertical-align: middle;\n",
       "    }\n",
       "\n",
       "    .dataframe tbody tr th {\n",
       "        vertical-align: top;\n",
       "    }\n",
       "\n",
       "    .dataframe thead th {\n",
       "        text-align: right;\n",
       "    }\n",
       "</style>\n",
       "<table border=\"1\" class=\"dataframe\">\n",
       "  <thead>\n",
       "    <tr style=\"text-align: right;\">\n",
       "      <th></th>\n",
       "      <th>city</th>\n",
       "      <th>month</th>\n",
       "      <th>match_type</th>\n",
       "      <th>team_a</th>\n",
       "      <th>team_b</th>\n",
       "      <th>toss_won</th>\n",
       "      <th>toss_decision</th>\n",
       "      <th>venue</th>\n",
       "      <th>winner</th>\n",
       "    </tr>\n",
       "  </thead>\n",
       "  <tbody>\n",
       "    <tr>\n",
       "      <th>0</th>\n",
       "      <td>NaN</td>\n",
       "      <td>February</td>\n",
       "      <td>ODI</td>\n",
       "      <td>Pakistan</td>\n",
       "      <td>India</td>\n",
       "      <td>Pakistan</td>\n",
       "      <td>bat</td>\n",
       "      <td>Rawalpindi Cricket Stadium</td>\n",
       "      <td>India</td>\n",
       "    </tr>\n",
       "    <tr>\n",
       "      <th>1</th>\n",
       "      <td>Colombo</td>\n",
       "      <td>February</td>\n",
       "      <td>ODI</td>\n",
       "      <td>India</td>\n",
       "      <td>Pakistan</td>\n",
       "      <td>India</td>\n",
       "      <td>field</td>\n",
       "      <td>P Sara Oval</td>\n",
       "      <td>India</td>\n",
       "    </tr>\n",
       "    <tr>\n",
       "      <th>2</th>\n",
       "      <td>Abu Dhabi</td>\n",
       "      <td>April</td>\n",
       "      <td>ODI</td>\n",
       "      <td>India</td>\n",
       "      <td>Pakistan</td>\n",
       "      <td>India</td>\n",
       "      <td>bat</td>\n",
       "      <td>Sheikh Zayed Stadium</td>\n",
       "      <td>India</td>\n",
       "    </tr>\n",
       "    <tr>\n",
       "      <th>3</th>\n",
       "      <td>Manchester</td>\n",
       "      <td>June</td>\n",
       "      <td>ODI</td>\n",
       "      <td>India</td>\n",
       "      <td>Pakistan</td>\n",
       "      <td>Pakistan</td>\n",
       "      <td>field</td>\n",
       "      <td>Old Trafford</td>\n",
       "      <td>India</td>\n",
       "    </tr>\n",
       "    <tr>\n",
       "      <th>4</th>\n",
       "      <td>Karachi</td>\n",
       "      <td>June</td>\n",
       "      <td>ODI</td>\n",
       "      <td>Pakistan</td>\n",
       "      <td>India</td>\n",
       "      <td>Pakistan</td>\n",
       "      <td>bat</td>\n",
       "      <td>National Stadium</td>\n",
       "      <td>India</td>\n",
       "    </tr>\n",
       "  </tbody>\n",
       "</table>\n",
       "</div>"
      ],
      "text/plain": [
       "         city     month match_type    team_a    team_b  toss_won  \\\n",
       "0         NaN  February        ODI  Pakistan     India  Pakistan   \n",
       "1     Colombo  February        ODI     India  Pakistan     India   \n",
       "2   Abu Dhabi     April        ODI     India  Pakistan     India   \n",
       "3  Manchester      June        ODI     India  Pakistan  Pakistan   \n",
       "4     Karachi      June        ODI  Pakistan     India  Pakistan   \n",
       "\n",
       "  toss_decision                       venue winner  \n",
       "0           bat  Rawalpindi Cricket Stadium  India  \n",
       "1         field                 P Sara Oval  India  \n",
       "2           bat        Sheikh Zayed Stadium  India  \n",
       "3         field                Old Trafford  India  \n",
       "4           bat            National Stadium  India  "
      ]
     },
     "execution_count": 34,
     "metadata": {},
     "output_type": "execute_result"
    }
   ],
   "source": [
    "label_data.apply(lambda x: encoder_dict[x.name].inverse_transform(x)).head()"
   ]
  },
  {
   "cell_type": "code",
   "execution_count": 35,
   "metadata": {},
   "outputs": [
    {
     "data": {
      "text/plain": [
       "0     0\n",
       "1     0\n",
       "2     0\n",
       "3     0\n",
       "4     0\n",
       "5     0\n",
       "6     1\n",
       "7     0\n",
       "8     0\n",
       "9     0\n",
       "10    0\n",
       "11    0\n",
       "12    0\n",
       "13    0\n",
       "14    0\n",
       "15    1\n",
       "16    1\n",
       "17    1\n",
       "18    0\n",
       "19    0\n",
       "20    0\n",
       "21    0\n",
       "22    0\n",
       "23    1\n",
       "24    0\n",
       "25    1\n",
       "26    1\n",
       "27    1\n",
       "28    1\n",
       "29    1\n",
       "30    1\n",
       "31    0\n",
       "32    0\n",
       "Name: winner, dtype: int64"
      ]
     },
     "execution_count": 35,
     "metadata": {},
     "output_type": "execute_result"
    }
   ],
   "source": [
    "output = label_data.pop('winner')"
   ]
  },
  {
   "cell_type": "code",
   "execution_count": 36,
   "metadata": {},
   "outputs": [],
   "source": [
    "x_train, x_test, y_train, y_test = train_test_split(label_data,output,test_size=0.2)"
   ]
  },
  {
   "cell_type": "code",
   "execution_count": 39,
   "metadata": {},
   "outputs": [],
   "source": [
    "from sklearn.tree import DecisionTreeClassifier\n",
    "dc_model = DecisionTreeClassifier()\n",
    "\n",
    "dc_model.fit(x_train,y_train)\n",
    "\n",
    "y_head_dc = dc_model.predict(x_test)\n",
    "\n",
    "dc_score = dc_model.score(x_test,y_test)\n"
   ]
  },
  {
   "cell_type": "code",
   "execution_count": 40,
   "metadata": {},
   "outputs": [
    {
     "data": {
      "text/plain": [
       "0.5714285714285714"
      ]
     },
     "execution_count": 40,
     "metadata": {},
     "output_type": "execute_result"
    }
   ],
   "source": [
    "dc_score"
   ]
  },
  {
   "cell_type": "code",
   "execution_count": 41,
   "metadata": {},
   "outputs": [
    {
     "name": "stderr",
     "output_type": "stream",
     "text": [
      "/Users/sheikh/Library/Python/2.7/lib/python/site-packages/sklearn/svm/base.py:196: FutureWarning: The default value of gamma will change from 'auto' to 'scale' in version 0.22 to account better for unscaled features. Set gamma explicitly to 'auto' or 'scale' to avoid this warning.\n",
      "  \"avoid this warning.\", FutureWarning)\n"
     ]
    }
   ],
   "source": [
    "from sklearn.svm import SVC\n",
    "svm_model = SVC()\n",
    "\n",
    "svm_model.fit(x_train,y_train)\n",
    "\n",
    "y_head_svm = svm_model.predict(x_test)\n",
    "\n",
    "svm_score = svm_model.score(x_test,y_test)"
   ]
  },
  {
   "cell_type": "code",
   "execution_count": 42,
   "metadata": {},
   "outputs": [
    {
     "data": {
      "text/plain": [
       "0.5714285714285714"
      ]
     },
     "execution_count": 42,
     "metadata": {},
     "output_type": "execute_result"
    }
   ],
   "source": [
    "svm_score"
   ]
  },
  {
   "cell_type": "code",
   "execution_count": 43,
   "metadata": {},
   "outputs": [
    {
     "name": "stderr",
     "output_type": "stream",
     "text": [
      "/Users/sheikh/Library/Python/2.7/lib/python/site-packages/sklearn/linear_model/logistic.py:433: FutureWarning: Default solver will be changed to 'lbfgs' in 0.22. Specify a solver to silence this warning.\n",
      "  FutureWarning)\n"
     ]
    }
   ],
   "source": [
    "from sklearn.linear_model import LogisticRegression\n",
    "lr_model = LogisticRegression()\n",
    "\n",
    "lr_model.fit(x_train,y_train)\n",
    "\n",
    "y_head_lr = lr_model.predict(x_test)\n",
    "\n",
    "lr_score = lr_model.score(x_test,y_test)"
   ]
  },
  {
   "cell_type": "code",
   "execution_count": 44,
   "metadata": {},
   "outputs": [
    {
     "data": {
      "text/plain": [
       "0.7142857142857143"
      ]
     },
     "execution_count": 44,
     "metadata": {},
     "output_type": "execute_result"
    }
   ],
   "source": [
    "lr_score"
   ]
  },
  {
   "cell_type": "code",
   "execution_count": 45,
   "metadata": {},
   "outputs": [],
   "source": [
    "from sklearn.naive_bayes import GaussianNB\n",
    "nb_model = GaussianNB()\n",
    "\n",
    "nb_model.fit(x_train,y_train)\n",
    "\n",
    "y_head_nb = nb_model.predict(x_test)\n",
    "\n",
    "nb_score = nb_model.score(x_test,y_test)"
   ]
  },
  {
   "cell_type": "code",
   "execution_count": 46,
   "metadata": {},
   "outputs": [
    {
     "data": {
      "text/plain": [
       "0.8571428571428571"
      ]
     },
     "execution_count": 46,
     "metadata": {},
     "output_type": "execute_result"
    }
   ],
   "source": [
    "nb_score"
   ]
  },
  {
   "cell_type": "code",
   "execution_count": 47,
   "metadata": {},
   "outputs": [],
   "source": [
    "from sklearn.neighbors import KNeighborsClassifier\n",
    "knn_model = KNeighborsClassifier()\n",
    "\n",
    "knn_model.fit(x_train,y_train)\n",
    "\n",
    "y_head_knn = knn_model.predict(x_test)\n",
    "\n",
    "knn_score = knn_model.score(x_test,y_test)"
   ]
  },
  {
   "cell_type": "code",
   "execution_count": 48,
   "metadata": {},
   "outputs": [
    {
     "data": {
      "text/plain": [
       "0.7142857142857143"
      ]
     },
     "execution_count": 48,
     "metadata": {},
     "output_type": "execute_result"
    }
   ],
   "source": [
    "knn_score"
   ]
  },
  {
   "cell_type": "code",
   "execution_count": 56,
   "metadata": {},
   "outputs": [
    {
     "data": {
      "text/plain": [
       "array(['India'], dtype=object)"
      ]
     },
     "execution_count": 56,
     "metadata": {},
     "output_type": "execute_result"
    }
   ],
   "source": [
    "val = pd.DataFrame({\n",
    "        'id':1,\n",
    "        'city': 'Karachi',\n",
    "        'month': 'january',\n",
    "        'match_type': 'ODI',\n",
    "        'team_a': 'Pakistan',\n",
    "        'team_b': 'India',\n",
    "        'toss_won': 'Pakistan',\n",
    "        'toss_decision': 'bat',\n",
    "        'venue': 'National Stadium',\n",
    "    }, index=[0])\n",
    "del val['id']\n",
    "label_val = val.apply(lambda x: encoder_dict[x.name].fit_transform(x))\n",
    "pred = nb_model.predict(label_val)\n",
    "encoder_dict['winner'].inverse_transform(pred)"
   ]
  },
  {
   "cell_type": "code",
   "execution_count": null,
   "metadata": {},
   "outputs": [],
   "source": []
  }
 ],
 "metadata": {
  "kernelspec": {
   "display_name": "Python 2",
   "language": "python",
   "name": "python2"
  },
  "language_info": {
   "codemirror_mode": {
    "name": "ipython",
    "version": 2
   },
   "file_extension": ".py",
   "mimetype": "text/x-python",
   "name": "python",
   "nbconvert_exporter": "python",
   "pygments_lexer": "ipython2",
   "version": "2.7.16"
  }
 },
 "nbformat": 4,
 "nbformat_minor": 2
}
